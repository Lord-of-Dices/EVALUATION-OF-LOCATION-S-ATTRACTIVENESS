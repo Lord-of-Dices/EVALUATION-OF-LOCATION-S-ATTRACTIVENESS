{
 "cells": [
  {
   "cell_type": "markdown",
   "id": "d8f868cc",
   "metadata": {},
   "source": [
    "## Trash"
   ]
  },
  {
   "cell_type": "markdown",
   "id": "6d94e8cf",
   "metadata": {},
   "source": [
    "## Сделать таблицу для ВОРДА"
   ]
  },
  {
   "cell_type": "code",
   "execution_count": 35,
   "id": "686ad6fb",
   "metadata": {},
   "outputs": [],
   "source": [
    "df =filtered_rules_sorted[usefull_column].head(20).round(2)"
   ]
  },
  {
   "cell_type": "code",
   "execution_count": 41,
   "id": "11c95c9c",
   "metadata": {},
   "outputs": [
    {
     "data": {
      "image/png": "[encoded data removed]",
      "text/plain": [
       "<Figure size 1000x800 with 1 Axes>"
      ]
     },
     "metadata": {},
     "output_type": "display_data"
    }
   ],
   "source": [
    "import pandas as pd\n",
    "import matplotlib.pyplot as plt\n",
    "from pandas.plotting import table\n",
    "\n",
    "fig, ax = plt.subplots(figsize=(10, 8))\n",
    "ax.axis('tight')\n",
    "ax.axis('off')\n",
    "#ax.set_title('Top 20 Rules', fontsize=14, weight='bold')\n",
    "\n",
    "# Creating the table\n",
    "table(ax, df, loc='center', cellLoc='center', colWidths=[0.01]*len(df.columns))\n",
    "\n",
    "# Save the figure\n",
    "plt.savefig('dataframe_image.png', dpi=1000)\n",
    "plt.show()"
   ]
  },
  {
   "cell_type": "code",
   "execution_count": 23,
   "id": "0fed8563",
   "metadata": {},
   "outputs": [],
   "source": [
    "#pip install reportlab"
   ]
  },
  {
   "cell_type": "code",
   "execution_count": 24,
   "id": "14daba9d",
   "metadata": {},
   "outputs": [],
   "source": [
    "#pip install reportlab"
   ]
  },
  {
   "cell_type": "code",
   "execution_count": 25,
   "id": "cddc35f8",
   "metadata": {},
   "outputs": [],
   "source": [
    "#pip install Wand"
   ]
  },
  {
   "cell_type": "code",
   "execution_count": 26,
   "id": "e6ef4d2f",
   "metadata": {},
   "outputs": [],
   "source": [
    "#pip install ImageMagick"
   ]
  },
  {
   "cell_type": "code",
   "execution_count": 27,
   "id": "f39d07de",
   "metadata": {},
   "outputs": [],
   "source": [
    "from reportlab.lib import colors\n",
    "from reportlab.lib.pagesizes import letter\n",
    "from reportlab.platypus import SimpleDocTemplate, Table, TableStyle\n",
    "from reportlab.lib.units import inch\n",
    "\n",
    "def create_pdf_table(dataframe, filename):\n",
    "    doc = SimpleDocTemplate(filename, pagesize=letter, rightMargin=30, leftMargin=30, topMargin=30, bottomMargin=18)\n",
    "    elements = []\n",
    "    \n",
    "    # Prepare data (include column headers as the first row)\n",
    "    data = [dataframe.columns.tolist()] + dataframe.values.tolist()\n",
    "    \n",
    "    # Determine the style dynamically based on the DataFrame's dimensions\n",
    "    table = Table(data, colWidths=[max(len(str(x)) for x in col) * 0.12 * inch for col in data])\n",
    "    table.setStyle(TableStyle([\n",
    "        ('BACKGROUND', (0, 0), (-1, 0), colors.gray),\n",
    "        ('TEXTCOLOR', (0, 0), (-1, 0), colors.white),\n",
    "        ('ALIGN', (0, 0), (-1, -1), 'CENTER'),\n",
    "        ('FONTNAME', (0, 0), (-1, 0), 'Helvetica-Bold'),\n",
    "        ('BOTTOMPADDING', (0, 0), (-1, 0), 12),\n",
    "        ('BACKGROUND', (0, 1), (-1, -1), colors.beige),\n",
    "        ('GRID', (0, 0), (-1, -1), 0.5, colors.black),\n",
    "        ('BOX', (0, 0), (-1, -1), 0.5, colors.black)\n",
    "    ]))\n",
    "    \n",
    "    elements.append(table)\n",
    "    doc.build(elements)"
   ]
  },
  {
   "cell_type": "code",
   "execution_count": 28,
   "id": "898cc7c9",
   "metadata": {},
   "outputs": [],
   "source": [
    "path = 'C:/Users/elysi/Tele2_project/data/pandas_to_word_academic_tables/ARM/salary_4_unique_share_all_percentiles.pdf'\n",
    "path_image = 'C:/Users/elysi/Tele2_project/data/pandas_to_word_academic_tables/ARM/salary_4_unique_share_all_percentiles.png'"
   ]
  },
  {
   "cell_type": "code",
   "execution_count": 29,
   "id": "83fb7555",
   "metadata": {},
   "outputs": [],
   "source": [
    "create_pdf_table(filtered_rules_sorted.head(20), path)"
   ]
  },
  {
   "cell_type": "code",
   "execution_count": 30,
   "id": "8e814bd7",
   "metadata": {},
   "outputs": [
    {
     "ename": "ImportError",
     "evalue": "MagickWand shared library not found.\nYou probably had not installed ImageMagick library.\nTry to install:\n  https://docs.wand-py.org/en/latest/guide/install.html#install-imagemagick-on-windows",
     "output_type": "error",
     "traceback": [
      "\u001b[1;31m---------------------------------------------------------------------------\u001b[0m",
      "\u001b[1;31mOSError\u001b[0m                                   Traceback (most recent call last)",
      "File \u001b[1;32mD:\\Anaconda\\lib\\site-packages\\wand\\api.py:159\u001b[0m\n\u001b[0;32m    158\u001b[0m \u001b[38;5;28;01mtry\u001b[39;00m:\n\u001b[1;32m--> 159\u001b[0m     libraries \u001b[38;5;241m=\u001b[39m \u001b[43mload_library\u001b[49m\u001b[43m(\u001b[49m\u001b[43m)\u001b[49m\n\u001b[0;32m    160\u001b[0m \u001b[38;5;28;01mexcept\u001b[39;00m (\u001b[38;5;167;01mOSError\u001b[39;00m, \u001b[38;5;167;01mIOError\u001b[39;00m):\n",
      "File \u001b[1;32mD:\\Anaconda\\lib\\site-packages\\wand\\api.py:148\u001b[0m, in \u001b[0;36mload_library\u001b[1;34m()\u001b[0m\n\u001b[0;32m    147\u001b[0m     \u001b[38;5;28;01mreturn\u001b[39;00m libwand, libmagick\n\u001b[1;32m--> 148\u001b[0m \u001b[38;5;28;01mraise\u001b[39;00m \u001b[38;5;167;01mIOError\u001b[39;00m(\u001b[38;5;124m'\u001b[39m\u001b[38;5;124mcannot find library; tried paths: \u001b[39m\u001b[38;5;124m'\u001b[39m \u001b[38;5;241m+\u001b[39m \u001b[38;5;28mrepr\u001b[39m(tried_paths))\n",
      "\u001b[1;31mOSError\u001b[0m: cannot find library; tried paths: []",
      "\nDuring handling of the above exception, another exception occurred:\n",
      "\u001b[1;31mImportError\u001b[0m                               Traceback (most recent call last)",
      "Cell \u001b[1;32mIn[30], line 1\u001b[0m\n\u001b[1;32m----> 1\u001b[0m \u001b[38;5;28;01mfrom\u001b[39;00m \u001b[38;5;21;01mwand\u001b[39;00m\u001b[38;5;21;01m.\u001b[39;00m\u001b[38;5;21;01mimage\u001b[39;00m \u001b[38;5;28;01mimport\u001b[39;00m Image \u001b[38;5;28;01mas\u001b[39;00m WImage\n\u001b[0;32m      2\u001b[0m \u001b[38;5;28;01mfrom\u001b[39;00m \u001b[38;5;21;01mIPython\u001b[39;00m\u001b[38;5;21;01m.\u001b[39;00m\u001b[38;5;21;01mdisplay\u001b[39;00m \u001b[38;5;28;01mimport\u001b[39;00m display, Image\n\u001b[0;32m      4\u001b[0m \u001b[38;5;66;03m# Convert PDF to image\u001b[39;00m\n",
      "File \u001b[1;32mD:\\Anaconda\\lib\\site-packages\\wand\\image.py:18\u001b[0m\n\u001b[0;32m     15\u001b[0m \u001b[38;5;28;01mimport\u001b[39;00m \u001b[38;5;21;01mnumbers\u001b[39;00m\n\u001b[0;32m     16\u001b[0m \u001b[38;5;28;01mimport\u001b[39;00m \u001b[38;5;21;01mweakref\u001b[39;00m\n\u001b[1;32m---> 18\u001b[0m \u001b[38;5;28;01mfrom\u001b[39;00m \u001b[38;5;21;01m.\u001b[39;00m \u001b[38;5;28;01mimport\u001b[39;00m assertions\n\u001b[0;32m     19\u001b[0m \u001b[38;5;28;01mfrom\u001b[39;00m \u001b[38;5;21;01m.\u001b[39;00m\u001b[38;5;21;01mapi\u001b[39;00m \u001b[38;5;28;01mimport\u001b[39;00m libc, libmagick, library\n\u001b[0;32m     20\u001b[0m \u001b[38;5;28;01mfrom\u001b[39;00m \u001b[38;5;21;01m.\u001b[39;00m\u001b[38;5;21;01mcdefs\u001b[39;00m\u001b[38;5;21;01m.\u001b[39;00m\u001b[38;5;21;01mstructures\u001b[39;00m \u001b[38;5;28;01mimport\u001b[39;00m (CCObjectInfo, CCObjectInfo70A, CCObjectInfo710,\n\u001b[0;32m     21\u001b[0m                                ChannelFeature, GeometryInfo, PixelInfo,\n\u001b[0;32m     22\u001b[0m                                RectangleInfo)\n",
      "File \u001b[1;32mD:\\Anaconda\\lib\\site-packages\\wand\\assertions.py:156\u001b[0m\n\u001b[0;32m    152\u001b[0m     in_list(options, label, \u001b[38;5;241m*\u001b[39m\u001b[38;5;241m*\u001b[39mkwargs)\n\u001b[0;32m    155\u001b[0m \u001b[38;5;66;03m# Lazy load recursive import\u001b[39;00m\n\u001b[1;32m--> 156\u001b[0m \u001b[38;5;28;01mfrom\u001b[39;00m \u001b[38;5;21;01m.\u001b[39;00m\u001b[38;5;21;01mcolor\u001b[39;00m \u001b[38;5;28;01mimport\u001b[39;00m Color\n",
      "File \u001b[1;32mD:\\Anaconda\\lib\\site-packages\\wand\\color.py:10\u001b[0m\n\u001b[0;32m      7\u001b[0m \u001b[38;5;28;01mimport\u001b[39;00m \u001b[38;5;21;01mctypes\u001b[39;00m\n\u001b[0;32m      8\u001b[0m \u001b[38;5;28;01mimport\u001b[39;00m \u001b[38;5;21;01mnumbers\u001b[39;00m\n\u001b[1;32m---> 10\u001b[0m \u001b[38;5;28;01mfrom\u001b[39;00m \u001b[38;5;21;01m.\u001b[39;00m\u001b[38;5;21;01mapi\u001b[39;00m \u001b[38;5;28;01mimport\u001b[39;00m library\n\u001b[0;32m     11\u001b[0m \u001b[38;5;28;01mfrom\u001b[39;00m \u001b[38;5;21;01m.\u001b[39;00m\u001b[38;5;21;01mcdefs\u001b[39;00m\u001b[38;5;21;01m.\u001b[39;00m\u001b[38;5;21;01mstructures\u001b[39;00m \u001b[38;5;28;01mimport\u001b[39;00m MagickPixelPacket, PixelInfo\n\u001b[0;32m     12\u001b[0m \u001b[38;5;28;01mfrom\u001b[39;00m \u001b[38;5;21;01m.\u001b[39;00m\u001b[38;5;21;01mcompat\u001b[39;00m \u001b[38;5;28;01mimport\u001b[39;00m binary, text\n",
      "File \u001b[1;32mD:\\Anaconda\\lib\\site-packages\\wand\\api.py:183\u001b[0m\n\u001b[0;32m    181\u001b[0m         \u001b[38;5;28;01melif\u001b[39;00m distname \u001b[38;5;129;01min\u001b[39;00m (\u001b[38;5;124m'\u001b[39m\u001b[38;5;124mfedora\u001b[39m\u001b[38;5;124m'\u001b[39m, \u001b[38;5;124m'\u001b[39m\u001b[38;5;124mcentos\u001b[39m\u001b[38;5;124m'\u001b[39m, \u001b[38;5;124m'\u001b[39m\u001b[38;5;124mredhat\u001b[39m\u001b[38;5;124m'\u001b[39m):\n\u001b[0;32m    182\u001b[0m             msg \u001b[38;5;241m=\u001b[39m \u001b[38;5;124m'\u001b[39m\u001b[38;5;124myum install ImageMagick-devel\u001b[39m\u001b[38;5;124m'\u001b[39m\n\u001b[1;32m--> 183\u001b[0m     \u001b[38;5;28;01mraise\u001b[39;00m \u001b[38;5;167;01mImportError\u001b[39;00m(\u001b[38;5;124m'\u001b[39m\u001b[38;5;124mMagickWand shared library not found.\u001b[39m\u001b[38;5;130;01m\\n\u001b[39;00m\u001b[38;5;124m'\u001b[39m\n\u001b[0;32m    184\u001b[0m                       \u001b[38;5;124m'\u001b[39m\u001b[38;5;124mYou probably had not installed ImageMagick library.\u001b[39m\u001b[38;5;130;01m\\n\u001b[39;00m\u001b[38;5;124m'\u001b[39m\n\u001b[0;32m    185\u001b[0m                       \u001b[38;5;124m'\u001b[39m\u001b[38;5;124mTry to install:\u001b[39m\u001b[38;5;130;01m\\n\u001b[39;00m\u001b[38;5;124m  \u001b[39m\u001b[38;5;124m'\u001b[39m \u001b[38;5;241m+\u001b[39m msg)\n\u001b[0;32m    187\u001b[0m \u001b[38;5;66;03m#: (:class:`ctypes.CDLL`) The MagickWand library.\u001b[39;00m\n\u001b[0;32m    188\u001b[0m library \u001b[38;5;241m=\u001b[39m libraries[\u001b[38;5;241m0\u001b[39m]\n",
      "\u001b[1;31mImportError\u001b[0m: MagickWand shared library not found.\nYou probably had not installed ImageMagick library.\nTry to install:\n  https://docs.wand-py.org/en/latest/guide/install.html#install-imagemagick-on-windows"
     ]
    }
   ],
   "source": [
    "from wand.image import Image as WImage\n",
    "from IPython.display import display, Image\n",
    "\n",
    "# Convert PDF to image\n",
    "with WImage(path, resolution=300) as img:\n",
    "    img.format = 'png'\n",
    "    img.save(filename='/mnt/data/temp_image.png')\n",
    "\n",
    "# Display the image in Jupyter Notebook\n",
    "display(Image(filename='/mnt/data/temp_image.png'))"
   ]
  },
  {
   "cell_type": "markdown",
   "id": "71326d88",
   "metadata": {},
   "source": [
    "# Задачи/идеи"
   ]
  },
  {
   "cell_type": "markdown",
   "id": "96a78b90",
   "metadata": {},
   "source": [
    "## Создать модель не по гексам, а по районам"
   ]
  },
  {
   "cell_type": "markdown",
   "id": "bb4c0c83",
   "metadata": {},
   "source": [
    "## Переделай OSM, пересчитай, ты дропаешь дупликаты неверно (done). Хотя все еще подозрительно мало обьектов, поэтому на данный момент я сохранил структуру юинарного датасета. Еденичка просто означает, что обьектов больше чем 0"
   ]
  },
  {
   "cell_type": "code",
   "execution_count": null,
   "id": "d8dc177c",
   "metadata": {},
   "outputs": [],
   "source": []
  },
  {
   "cell_type": "code",
   "execution_count": null,
   "id": "8995e646",
   "metadata": {},
   "outputs": [],
   "source": []
  }
 ],
 "metadata": {
  "kernelspec": {
   "display_name": "Python 3 (ipykernel)",
   "language": "python",
   "name": "python3"
  },
  "language_info": {
   "codemirror_mode": {
    "name": "ipython",
    "version": 3
   },
   "file_extension": ".py",
   "mimetype": "text/x-python",
   "name": "python",
   "nbconvert_exporter": "python",
   "pygments_lexer": "ipython3",
   "version": "3.10.9"
  }
 },
 "nbformat": 4,
 "nbformat_minor": 5
}
