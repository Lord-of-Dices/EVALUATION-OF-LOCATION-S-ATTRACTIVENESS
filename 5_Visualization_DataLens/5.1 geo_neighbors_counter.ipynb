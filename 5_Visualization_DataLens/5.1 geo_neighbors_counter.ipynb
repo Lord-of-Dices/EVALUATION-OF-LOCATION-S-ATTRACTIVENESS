{
 "cells": [
  {
   "cell_type": "code",
   "execution_count": 1,
   "id": "a0d1eda9",
   "metadata": {},
   "outputs": [],
   "source": [
    "    #from sklearn.model_selection import train_test_split\n",
    "#from sklearn.model_selection import ParameterGrid\n",
    "\n",
    "from sklearn.linear_model import LinearRegression\n",
    "from sklearn.linear_model import ElasticNet\n",
    "\n",
    "from sklearn.ensemble import GradientBoostingRegressor\n",
    "from sklearn.ensemble import GradientBoostingClassifier\n",
    "from sklearn.ensemble import RandomForestRegressor\n",
    "from sklearn.ensemble import IsolationForest\n",
    "\n",
    "from sklearn.tree import DecisionTreeClassifier\n",
    "from sklearn.tree import DecisionTreeRegressor, plot_tree\n",
    "\n",
    "#from sklearn_pandas import DataFrameMapper\n",
    "from sklearn.compose import ColumnTransformer\n",
    "\n",
    "from sklearn.impute import SimpleImputer\n",
    "\n",
    "from sklearn.preprocessing import StandardScaler\n",
    "from sklearn.preprocessing import MinMaxScaler\n",
    "from sklearn.preprocessing import OneHotEncoder\n",
    "\n",
    "from sklearn.pipeline import make_pipeline, Pipeline\n",
    "\n",
    "from sklearn.metrics import mean_squared_error\n",
    "from sklearn.metrics import mean_absolute_percentage_error\n",
    "#from sklearn.metrics import PredictionErrorDisplay\n",
    "\n",
    "from sklearn.decomposition import PCA\n",
    "\n",
    "#from sklearn.model_selection import cross_val_score, GridSearchCV, KFold, RandomizedSearchCV, train_test_split\n",
    "\n",
    "from tqdm import tqdm\n",
    "\n",
    "import numpy as np\n",
    "import pandas as pd\n",
    "import matplotlib.pyplot as plt\n",
    "import scipy.stats\n",
    "import datetime\n",
    "import seaborn as sns\n",
    "sns.set_palette('muted')\n",
    "sns.set_color_codes('muted')\n",
    "sns.set_style('white')\n",
    "\n",
    "import warnings\n",
    "warnings.filterwarnings('ignore')\n",
    "\n",
    "from statsmodels.graphics.mosaicplot import mosaic\n",
    "pd.set_option('display.max_columns', 70)"
   ]
  },
  {
   "cell_type": "markdown",
   "id": "9c14044a",
   "metadata": {},
   "source": [
    "**downloard the data**"
   ]
  },
  {
   "cell_type": "code",
   "execution_count": 2,
   "id": "627c4d03",
   "metadata": {},
   "outputs": [],
   "source": [
    "df_geo = pd.read_csv('C:/Users/elysi/Tele2_project/data/pre_model_state/df_geo_features_spb.csv')\n",
    "df_time = pd.read_csv('C:/Users/elysi/Tele2_project/data/pre_model_state/df_time_based_features_full.csv')\n",
    "df_hex_unique = pd.read_csv('C:/Users/elysi/Tele2_project/data/pre_model_state/df_hex_unique_with_shares_spb.csv')\n",
    "df_hex_total = pd.read_csv('C:/Users/elysi/Tele2_project/data/pre_model_state/df_hex_total_with_shares_spb.csv')"
   ]
  },
  {
   "cell_type": "code",
   "execution_count": 3,
   "id": "5dfd555d",
   "metadata": {},
   "outputs": [
    {
     "data": {
      "text/plain": [
       "((3905, 43), (3892, 63), (3892, 68), (3892, 68))"
      ]
     },
     "execution_count": 3,
     "metadata": {},
     "output_type": "execute_result"
    }
   ],
   "source": [
    "df_geo.shape, df_time.shape, df_hex_unique.shape, df_hex_total.shape"
   ]
  },
  {
   "cell_type": "code",
   "execution_count": 4,
   "id": "2b78397e",
   "metadata": {},
   "outputs": [
    {
     "data": {
      "text/plain": [
       "582.0"
      ]
     },
     "execution_count": 4,
     "metadata": {},
     "output_type": "execute_result"
    }
   ],
   "source": [
    "df_geo.total_fit_clubs.sum()"
   ]
  },
  {
   "cell_type": "code",
   "execution_count": 5,
   "id": "d4f46773",
   "metadata": {},
   "outputs": [
    {
     "data": {
      "text/html": [
       "<div>\n",
       "<style scoped>\n",
       "    .dataframe tbody tr th:only-of-type {\n",
       "        vertical-align: middle;\n",
       "    }\n",
       "\n",
       "    .dataframe tbody tr th {\n",
       "        vertical-align: top;\n",
       "    }\n",
       "\n",
       "    .dataframe thead th {\n",
       "        text-align: right;\n",
       "    }\n",
       "</style>\n",
       "<table border=\"1\" class=\"dataframe\">\n",
       "  <thead>\n",
       "    <tr style=\"text-align: right;\">\n",
       "      <th></th>\n",
       "      <th>h3_9</th>\n",
       "      <th>total_fit_clubs</th>\n",
       "    </tr>\n",
       "  </thead>\n",
       "  <tbody>\n",
       "    <tr>\n",
       "      <th>0</th>\n",
       "      <td>8911060006bffff</td>\n",
       "      <td>0.0</td>\n",
       "    </tr>\n",
       "    <tr>\n",
       "      <th>1</th>\n",
       "      <td>89110600077ffff</td>\n",
       "      <td>0.0</td>\n",
       "    </tr>\n",
       "    <tr>\n",
       "      <th>2</th>\n",
       "      <td>89110600113ffff</td>\n",
       "      <td>4.0</td>\n",
       "    </tr>\n",
       "    <tr>\n",
       "      <th>3</th>\n",
       "      <td>89110600127ffff</td>\n",
       "      <td>0.0</td>\n",
       "    </tr>\n",
       "    <tr>\n",
       "      <th>4</th>\n",
       "      <td>89110600183ffff</td>\n",
       "      <td>0.0</td>\n",
       "    </tr>\n",
       "    <tr>\n",
       "      <th>...</th>\n",
       "      <td>...</td>\n",
       "      <td>...</td>\n",
       "    </tr>\n",
       "    <tr>\n",
       "      <th>3900</th>\n",
       "      <td>891106b9e4fffff</td>\n",
       "      <td>0.0</td>\n",
       "    </tr>\n",
       "    <tr>\n",
       "      <th>3901</th>\n",
       "      <td>891106b9e6bffff</td>\n",
       "      <td>0.0</td>\n",
       "    </tr>\n",
       "    <tr>\n",
       "      <th>3902</th>\n",
       "      <td>891106b9e6fffff</td>\n",
       "      <td>0.0</td>\n",
       "    </tr>\n",
       "    <tr>\n",
       "      <th>3903</th>\n",
       "      <td>891106b9e77ffff</td>\n",
       "      <td>0.0</td>\n",
       "    </tr>\n",
       "    <tr>\n",
       "      <th>3904</th>\n",
       "      <td>891106b9e7bffff</td>\n",
       "      <td>0.0</td>\n",
       "    </tr>\n",
       "  </tbody>\n",
       "</table>\n",
       "<p>3905 rows × 2 columns</p>\n",
       "</div>"
      ],
      "text/plain": [
       "                 h3_9  total_fit_clubs\n",
       "0     8911060006bffff              0.0\n",
       "1     89110600077ffff              0.0\n",
       "2     89110600113ffff              4.0\n",
       "3     89110600127ffff              0.0\n",
       "4     89110600183ffff              0.0\n",
       "...               ...              ...\n",
       "3900  891106b9e4fffff              0.0\n",
       "3901  891106b9e6bffff              0.0\n",
       "3902  891106b9e6fffff              0.0\n",
       "3903  891106b9e77ffff              0.0\n",
       "3904  891106b9e7bffff              0.0\n",
       "\n",
       "[3905 rows x 2 columns]"
      ]
     },
     "execution_count": 5,
     "metadata": {},
     "output_type": "execute_result"
    }
   ],
   "source": [
    "df_geo[['h3_9', 'total_fit_clubs']]"
   ]
  },
  {
   "cell_type": "code",
   "execution_count": 6,
   "id": "3423d1be",
   "metadata": {},
   "outputs": [],
   "source": [
    "import h3\n",
    "def calculate_fit_club_sums(hex_id, df):\n",
    "    neighbors = h3.k_ring(hex_id, 1)\n",
    "    # Including the hex itself in neighbors for the total_fit_clubs_neighbour_and_hex calculation\n",
    "    total_neighbors = df[df['h3_9'].isin(neighbors)]['total_fit_clubs'].sum()\n",
    "    # Exclude the hex itself for the total_fit_clubs_neighbour calculation\n",
    "    neighbors.remove(hex_id)\n",
    "    total_neighbors_excluding_hex = df[df['h3_9'].isin(neighbors)]['total_fit_clubs'].sum()\n",
    "    return len(neighbors), total_neighbors_excluding_hex, total_neighbors"
   ]
  },
  {
   "cell_type": "code",
   "execution_count": 7,
   "id": "a7258900",
   "metadata": {},
   "outputs": [],
   "source": [
    "df_data_lens = df_geo[['h3_9', 'total_fit_clubs']].copy()"
   ]
  },
  {
   "cell_type": "code",
   "execution_count": 8,
   "id": "41ad3f31",
   "metadata": {},
   "outputs": [],
   "source": [
    "df_data_lens[['neighbour_amount', 'total_fit_clubs_neighbour', 'total_fit_clubs_neighbour_and_hex']] = \\\n",
    "    df_data_lens.apply(lambda row: calculate_fit_club_sums(row['h3_9'], df_data_lens), axis=1, result_type='expand')"
   ]
  },
  {
   "cell_type": "code",
   "execution_count": 9,
   "id": "c0956b8c",
   "metadata": {},
   "outputs": [
    {
     "data": {
      "text/plain": [
       "(3905, 5)"
      ]
     },
     "execution_count": 9,
     "metadata": {},
     "output_type": "execute_result"
    }
   ],
   "source": [
    "df_data_lens.shape"
   ]
  },
  {
   "cell_type": "code",
   "execution_count": 10,
   "id": "91939a53",
   "metadata": {},
   "outputs": [
    {
     "data": {
      "text/html": [
       "<div>\n",
       "<style scoped>\n",
       "    .dataframe tbody tr th:only-of-type {\n",
       "        vertical-align: middle;\n",
       "    }\n",
       "\n",
       "    .dataframe tbody tr th {\n",
       "        vertical-align: top;\n",
       "    }\n",
       "\n",
       "    .dataframe thead th {\n",
       "        text-align: right;\n",
       "    }\n",
       "</style>\n",
       "<table border=\"1\" class=\"dataframe\">\n",
       "  <thead>\n",
       "    <tr style=\"text-align: right;\">\n",
       "      <th></th>\n",
       "      <th>h3_9</th>\n",
       "      <th>total_fit_clubs</th>\n",
       "      <th>neighbour_amount</th>\n",
       "      <th>total_fit_clubs_neighbour</th>\n",
       "      <th>total_fit_clubs_neighbour_and_hex</th>\n",
       "    </tr>\n",
       "  </thead>\n",
       "  <tbody>\n",
       "    <tr>\n",
       "      <th>0</th>\n",
       "      <td>8911060006bffff</td>\n",
       "      <td>0.0</td>\n",
       "      <td>6.0</td>\n",
       "      <td>0.0</td>\n",
       "      <td>0.0</td>\n",
       "    </tr>\n",
       "    <tr>\n",
       "      <th>1</th>\n",
       "      <td>89110600077ffff</td>\n",
       "      <td>0.0</td>\n",
       "      <td>6.0</td>\n",
       "      <td>0.0</td>\n",
       "      <td>0.0</td>\n",
       "    </tr>\n",
       "    <tr>\n",
       "      <th>2</th>\n",
       "      <td>89110600113ffff</td>\n",
       "      <td>4.0</td>\n",
       "      <td>6.0</td>\n",
       "      <td>0.0</td>\n",
       "      <td>4.0</td>\n",
       "    </tr>\n",
       "  </tbody>\n",
       "</table>\n",
       "</div>"
      ],
      "text/plain": [
       "              h3_9  total_fit_clubs  neighbour_amount  \\\n",
       "0  8911060006bffff              0.0               6.0   \n",
       "1  89110600077ffff              0.0               6.0   \n",
       "2  89110600113ffff              4.0               6.0   \n",
       "\n",
       "   total_fit_clubs_neighbour  total_fit_clubs_neighbour_and_hex  \n",
       "0                        0.0                                0.0  \n",
       "1                        0.0                                0.0  \n",
       "2                        0.0                                4.0  "
      ]
     },
     "execution_count": 10,
     "metadata": {},
     "output_type": "execute_result"
    }
   ],
   "source": [
    "df_data_lens.head(3)"
   ]
  },
  {
   "cell_type": "code",
   "execution_count": 11,
   "id": "e7bb678b",
   "metadata": {},
   "outputs": [
    {
     "data": {
      "text/plain": [
       "6.0    3905\n",
       "Name: neighbour_amount, dtype: int64"
      ]
     },
     "execution_count": 11,
     "metadata": {},
     "output_type": "execute_result"
    }
   ],
   "source": [
    "df_data_lens.neighbour_amount.value_counts()"
   ]
  },
  {
   "cell_type": "code",
   "execution_count": 12,
   "id": "b34daa9a",
   "metadata": {},
   "outputs": [
    {
     "data": {
      "text/plain": [
       "3723.0"
      ]
     },
     "execution_count": 12,
     "metadata": {},
     "output_type": "execute_result"
    }
   ],
   "source": [
    "df_data_lens.total_fit_clubs_neighbour_and_hex.sum()"
   ]
  },
  {
   "cell_type": "code",
   "execution_count": 13,
   "id": "e7168162",
   "metadata": {},
   "outputs": [
    {
     "data": {
      "text/html": [
       "<div>\n",
       "<style scoped>\n",
       "    .dataframe tbody tr th:only-of-type {\n",
       "        vertical-align: middle;\n",
       "    }\n",
       "\n",
       "    .dataframe tbody tr th {\n",
       "        vertical-align: top;\n",
       "    }\n",
       "\n",
       "    .dataframe thead th {\n",
       "        text-align: right;\n",
       "    }\n",
       "</style>\n",
       "<table border=\"1\" class=\"dataframe\">\n",
       "  <thead>\n",
       "    <tr style=\"text-align: right;\">\n",
       "      <th></th>\n",
       "      <th>h3_9</th>\n",
       "      <th>total_fit_clubs</th>\n",
       "      <th>total_fit_clubs_neighbour_and_hex</th>\n",
       "    </tr>\n",
       "  </thead>\n",
       "  <tbody>\n",
       "    <tr>\n",
       "      <th>0</th>\n",
       "      <td>8911060006bffff</td>\n",
       "      <td>0.0</td>\n",
       "      <td>0.0</td>\n",
       "    </tr>\n",
       "    <tr>\n",
       "      <th>1</th>\n",
       "      <td>89110600077ffff</td>\n",
       "      <td>0.0</td>\n",
       "      <td>0.0</td>\n",
       "    </tr>\n",
       "    <tr>\n",
       "      <th>2</th>\n",
       "      <td>89110600113ffff</td>\n",
       "      <td>4.0</td>\n",
       "      <td>4.0</td>\n",
       "    </tr>\n",
       "    <tr>\n",
       "      <th>3</th>\n",
       "      <td>89110600127ffff</td>\n",
       "      <td>0.0</td>\n",
       "      <td>0.0</td>\n",
       "    </tr>\n",
       "    <tr>\n",
       "      <th>4</th>\n",
       "      <td>89110600183ffff</td>\n",
       "      <td>0.0</td>\n",
       "      <td>0.0</td>\n",
       "    </tr>\n",
       "    <tr>\n",
       "      <th>...</th>\n",
       "      <td>...</td>\n",
       "      <td>...</td>\n",
       "      <td>...</td>\n",
       "    </tr>\n",
       "    <tr>\n",
       "      <th>3900</th>\n",
       "      <td>891106b9e4fffff</td>\n",
       "      <td>0.0</td>\n",
       "      <td>0.0</td>\n",
       "    </tr>\n",
       "    <tr>\n",
       "      <th>3901</th>\n",
       "      <td>891106b9e6bffff</td>\n",
       "      <td>0.0</td>\n",
       "      <td>0.0</td>\n",
       "    </tr>\n",
       "    <tr>\n",
       "      <th>3902</th>\n",
       "      <td>891106b9e6fffff</td>\n",
       "      <td>0.0</td>\n",
       "      <td>0.0</td>\n",
       "    </tr>\n",
       "    <tr>\n",
       "      <th>3903</th>\n",
       "      <td>891106b9e77ffff</td>\n",
       "      <td>0.0</td>\n",
       "      <td>0.0</td>\n",
       "    </tr>\n",
       "    <tr>\n",
       "      <th>3904</th>\n",
       "      <td>891106b9e7bffff</td>\n",
       "      <td>0.0</td>\n",
       "      <td>0.0</td>\n",
       "    </tr>\n",
       "  </tbody>\n",
       "</table>\n",
       "<p>3905 rows × 3 columns</p>\n",
       "</div>"
      ],
      "text/plain": [
       "                 h3_9  total_fit_clubs  total_fit_clubs_neighbour_and_hex\n",
       "0     8911060006bffff              0.0                                0.0\n",
       "1     89110600077ffff              0.0                                0.0\n",
       "2     89110600113ffff              4.0                                4.0\n",
       "3     89110600127ffff              0.0                                0.0\n",
       "4     89110600183ffff              0.0                                0.0\n",
       "...               ...              ...                                ...\n",
       "3900  891106b9e4fffff              0.0                                0.0\n",
       "3901  891106b9e6bffff              0.0                                0.0\n",
       "3902  891106b9e6fffff              0.0                                0.0\n",
       "3903  891106b9e77ffff              0.0                                0.0\n",
       "3904  891106b9e7bffff              0.0                                0.0\n",
       "\n",
       "[3905 rows x 3 columns]"
      ]
     },
     "execution_count": 13,
     "metadata": {},
     "output_type": "execute_result"
    }
   ],
   "source": [
    "df_data_lens[['h3_9', 'total_fit_clubs', 'total_fit_clubs_neighbour_and_hex']]"
   ]
  },
  {
   "cell_type": "code",
   "execution_count": 14,
   "id": "bfd38d99",
   "metadata": {},
   "outputs": [
    {
     "data": {
      "text/plain": [
       "0.0    3454\n",
       "1.0     358\n",
       "2.0      69\n",
       "3.0      16\n",
       "5.0       4\n",
       "4.0       3\n",
       "6.0       1\n",
       "Name: total_fit_clubs, dtype: int64"
      ]
     },
     "execution_count": 14,
     "metadata": {},
     "output_type": "execute_result"
    }
   ],
   "source": [
    "df_data_lens.total_fit_clubs.value_counts()"
   ]
  },
  {
   "cell_type": "code",
   "execution_count": 15,
   "id": "d193fcd5",
   "metadata": {},
   "outputs": [
    {
     "data": {
      "text/plain": [
       "0.0     2082\n",
       "1.0      885\n",
       "2.0      488\n",
       "3.0      204\n",
       "4.0      110\n",
       "5.0       69\n",
       "6.0       30\n",
       "7.0       23\n",
       "8.0        8\n",
       "10.0       4\n",
       "11.0       1\n",
       "9.0        1\n",
       "Name: total_fit_clubs_neighbour_and_hex, dtype: int64"
      ]
     },
     "execution_count": 15,
     "metadata": {},
     "output_type": "execute_result"
    }
   ],
   "source": [
    "df_data_lens.total_fit_clubs_neighbour_and_hex.value_counts()"
   ]
  },
  {
   "cell_type": "markdown",
   "id": "1b9b35f0",
   "metadata": {},
   "source": [
    "**join of other features for datalens**"
   ]
  },
  {
   "cell_type": "code",
   "execution_count": 16,
   "id": "12bf20d2",
   "metadata": {},
   "outputs": [
    {
     "data": {
      "text/plain": [
       "Index(['h3_9', 'avg_duration_hrs', 'median_duration_hrs', 'weekday_visits',\n",
       "       'weekend_visits', 'Stay0_05h', 'Stay05_1h', 'Stay1_3h', 'Stay3_6h',\n",
       "       'Stay6_9h', 'Stay9_15h', 'Stay15_20h', 'Stay20_plus', 'Friday',\n",
       "       'Monday', 'Saturday', 'Sunday', 'Thursday', 'Tuesday', 'Wednesday',\n",
       "       'day', 'evening', 'morning', 'night', 'weekday_visits_share',\n",
       "       'weekend_visits_share', 'Stay0_05h_share', 'Stay05_1h_share',\n",
       "       'Stay1_3h_share', 'Stay3_6h_share', 'Stay6_9h_share', 'Stay9_15h_share',\n",
       "       'Stay15_20h_share', 'Stay20_plus_share', 'Friday_share', 'Monday_share',\n",
       "       'Saturday_share', 'Sunday_share', 'Thursday_share', 'Tuesday_share',\n",
       "       'Wednesday_share', 'day_share', 'evening_share', 'morning_share',\n",
       "       'night_share', 'avg_duration_hrs_per_unique',\n",
       "       'median_duration_hrs_per_unique', 'Stay0_05h_per_unique',\n",
       "       'Stay05_1h_per_unique', 'Stay1_3h_per_unique', 'Stay3_6h_per_unique',\n",
       "       'Stay6_9h_per_unique', 'Stay9_15h_per_unique', 'Stay15_20h_per_unique',\n",
       "       'Stay20_plus_per_unique', 'Stay0_05h_per_unique_share_per_unique',\n",
       "       'Stay05_1h_per_unique_share_per_unique',\n",
       "       'Stay1_3h_per_unique_share_per_unique',\n",
       "       'Stay3_6h_per_unique_share_per_unique',\n",
       "       'Stay6_9h_per_unique_share_per_unique',\n",
       "       'Stay9_15h_per_unique_share_per_unique',\n",
       "       'Stay15_20h_per_unique_share_per_unique',\n",
       "       'Stay20_plus_per_unique_share_per_unique'],\n",
       "      dtype='object')"
      ]
     },
     "execution_count": 16,
     "metadata": {},
     "output_type": "execute_result"
    }
   ],
   "source": [
    "df_time.columns"
   ]
  },
  {
   "cell_type": "code",
   "execution_count": 17,
   "id": "b61fd90c",
   "metadata": {},
   "outputs": [],
   "source": [
    "df_combined = pd.merge(df_data_lens[['h3_9', 'total_fit_clubs', 'total_fit_clubs_neighbour_and_hex']],\n",
    "                           df_hex_total[['h3_9', 'total_visits', 'salary_1_total_share', 'salary_2_total_share',\n",
    "                                         'salary_3_total_share', 'salary_4_total_share', 'salary_5_total_share']],\n",
    "                           how='left', left_on='h3_9', right_on='h3_9')"
   ]
  },
  {
   "cell_type": "code",
   "execution_count": 18,
   "id": "1f9df29f",
   "metadata": {},
   "outputs": [],
   "source": [
    "df_combined = pd.merge(df_combined,\n",
    "                       df_hex_unique[['h3_9', 'unique_visits', 'salary_1_unique_share', 'salary_2_unique_share',\n",
    "                                     'salary_3_unique_share', 'salary_4_unique_share', 'salary_5_unique_share']],\n",
    "                        how='left', left_on='h3_9', right_on='h3_9')"
   ]
  },
  {
   "cell_type": "code",
   "execution_count": 19,
   "id": "ff6e40a5",
   "metadata": {},
   "outputs": [],
   "source": [
    "df_combined = pd.merge(df_combined,\n",
    "                       df_time[['h3_9', 'day_share', 'evening_share', 'morning_share', 'night_share']],\n",
    "                        how='left', left_on='h3_9', right_on='h3_9')"
   ]
  },
  {
   "cell_type": "code",
   "execution_count": 20,
   "id": "ac41e3fb",
   "metadata": {},
   "outputs": [
    {
     "data": {
      "text/plain": [
       "(3905, 19)"
      ]
     },
     "execution_count": 20,
     "metadata": {},
     "output_type": "execute_result"
    }
   ],
   "source": [
    "df_combined.shape"
   ]
  },
  {
   "cell_type": "code",
   "execution_count": 21,
   "id": "5e22bc5a",
   "metadata": {},
   "outputs": [
    {
     "data": {
      "text/html": [
       "<div>\n",
       "<style scoped>\n",
       "    .dataframe tbody tr th:only-of-type {\n",
       "        vertical-align: middle;\n",
       "    }\n",
       "\n",
       "    .dataframe tbody tr th {\n",
       "        vertical-align: top;\n",
       "    }\n",
       "\n",
       "    .dataframe thead th {\n",
       "        text-align: right;\n",
       "    }\n",
       "</style>\n",
       "<table border=\"1\" class=\"dataframe\">\n",
       "  <thead>\n",
       "    <tr style=\"text-align: right;\">\n",
       "      <th></th>\n",
       "      <th>h3_9</th>\n",
       "      <th>total_fit_clubs</th>\n",
       "      <th>total_fit_clubs_neighbour_and_hex</th>\n",
       "      <th>total_visits</th>\n",
       "      <th>salary_1_total_share</th>\n",
       "      <th>salary_2_total_share</th>\n",
       "      <th>salary_3_total_share</th>\n",
       "      <th>salary_4_total_share</th>\n",
       "      <th>salary_5_total_share</th>\n",
       "      <th>unique_visits</th>\n",
       "      <th>salary_1_unique_share</th>\n",
       "      <th>salary_2_unique_share</th>\n",
       "      <th>salary_3_unique_share</th>\n",
       "      <th>salary_4_unique_share</th>\n",
       "      <th>salary_5_unique_share</th>\n",
       "      <th>day_share</th>\n",
       "      <th>evening_share</th>\n",
       "      <th>morning_share</th>\n",
       "      <th>night_share</th>\n",
       "    </tr>\n",
       "  </thead>\n",
       "  <tbody>\n",
       "    <tr>\n",
       "      <th>0</th>\n",
       "      <td>8911060006bffff</td>\n",
       "      <td>0.0</td>\n",
       "      <td>0.0</td>\n",
       "      <td>147.0</td>\n",
       "      <td>0.248120</td>\n",
       "      <td>0.300752</td>\n",
       "      <td>0.203008</td>\n",
       "      <td>0.112782</td>\n",
       "      <td>0.135338</td>\n",
       "      <td>98.0</td>\n",
       "      <td>0.341176</td>\n",
       "      <td>0.176471</td>\n",
       "      <td>0.141176</td>\n",
       "      <td>0.152941</td>\n",
       "      <td>0.188235</td>\n",
       "      <td>0.319728</td>\n",
       "      <td>0.272109</td>\n",
       "      <td>0.190476</td>\n",
       "      <td>0.217687</td>\n",
       "    </tr>\n",
       "    <tr>\n",
       "      <th>1</th>\n",
       "      <td>89110600077ffff</td>\n",
       "      <td>0.0</td>\n",
       "      <td>0.0</td>\n",
       "      <td>250.0</td>\n",
       "      <td>0.144860</td>\n",
       "      <td>0.182243</td>\n",
       "      <td>0.233645</td>\n",
       "      <td>0.257009</td>\n",
       "      <td>0.182243</td>\n",
       "      <td>99.0</td>\n",
       "      <td>0.229885</td>\n",
       "      <td>0.149425</td>\n",
       "      <td>0.229885</td>\n",
       "      <td>0.206897</td>\n",
       "      <td>0.183908</td>\n",
       "      <td>0.460000</td>\n",
       "      <td>0.216000</td>\n",
       "      <td>0.144000</td>\n",
       "      <td>0.180000</td>\n",
       "    </tr>\n",
       "    <tr>\n",
       "      <th>2</th>\n",
       "      <td>89110600113ffff</td>\n",
       "      <td>4.0</td>\n",
       "      <td>4.0</td>\n",
       "      <td>333.0</td>\n",
       "      <td>0.215873</td>\n",
       "      <td>0.196825</td>\n",
       "      <td>0.206349</td>\n",
       "      <td>0.222222</td>\n",
       "      <td>0.158730</td>\n",
       "      <td>144.0</td>\n",
       "      <td>0.325581</td>\n",
       "      <td>0.201550</td>\n",
       "      <td>0.170543</td>\n",
       "      <td>0.155039</td>\n",
       "      <td>0.147287</td>\n",
       "      <td>0.444444</td>\n",
       "      <td>0.153153</td>\n",
       "      <td>0.252252</td>\n",
       "      <td>0.150150</td>\n",
       "    </tr>\n",
       "  </tbody>\n",
       "</table>\n",
       "</div>"
      ],
      "text/plain": [
       "              h3_9  total_fit_clubs  total_fit_clubs_neighbour_and_hex  \\\n",
       "0  8911060006bffff              0.0                                0.0   \n",
       "1  89110600077ffff              0.0                                0.0   \n",
       "2  89110600113ffff              4.0                                4.0   \n",
       "\n",
       "   total_visits  salary_1_total_share  salary_2_total_share  \\\n",
       "0         147.0              0.248120              0.300752   \n",
       "1         250.0              0.144860              0.182243   \n",
       "2         333.0              0.215873              0.196825   \n",
       "\n",
       "   salary_3_total_share  salary_4_total_share  salary_5_total_share  \\\n",
       "0              0.203008              0.112782              0.135338   \n",
       "1              0.233645              0.257009              0.182243   \n",
       "2              0.206349              0.222222              0.158730   \n",
       "\n",
       "   unique_visits  salary_1_unique_share  salary_2_unique_share  \\\n",
       "0           98.0               0.341176               0.176471   \n",
       "1           99.0               0.229885               0.149425   \n",
       "2          144.0               0.325581               0.201550   \n",
       "\n",
       "   salary_3_unique_share  salary_4_unique_share  salary_5_unique_share  \\\n",
       "0               0.141176               0.152941               0.188235   \n",
       "1               0.229885               0.206897               0.183908   \n",
       "2               0.170543               0.155039               0.147287   \n",
       "\n",
       "   day_share  evening_share  morning_share  night_share  \n",
       "0   0.319728       0.272109       0.190476     0.217687  \n",
       "1   0.460000       0.216000       0.144000     0.180000  \n",
       "2   0.444444       0.153153       0.252252     0.150150  "
      ]
     },
     "execution_count": 21,
     "metadata": {},
     "output_type": "execute_result"
    }
   ],
   "source": [
    "df_combined.head(3)"
   ]
  },
  {
   "cell_type": "code",
   "execution_count": 25,
   "id": "8ecec184",
   "metadata": {},
   "outputs": [
    {
     "data": {
      "text/html": [
       "<div>\n",
       "<style scoped>\n",
       "    .dataframe tbody tr th:only-of-type {\n",
       "        vertical-align: middle;\n",
       "    }\n",
       "\n",
       "    .dataframe tbody tr th {\n",
       "        vertical-align: top;\n",
       "    }\n",
       "\n",
       "    .dataframe thead th {\n",
       "        text-align: right;\n",
       "    }\n",
       "</style>\n",
       "<table border=\"1\" class=\"dataframe\">\n",
       "  <thead>\n",
       "    <tr style=\"text-align: right;\">\n",
       "      <th></th>\n",
       "      <th>h3_9</th>\n",
       "      <th>total_visits</th>\n",
       "      <th>unique_visits</th>\n",
       "    </tr>\n",
       "  </thead>\n",
       "  <tbody>\n",
       "    <tr>\n",
       "      <th>0</th>\n",
       "      <td>8911060006bffff</td>\n",
       "      <td>147.0</td>\n",
       "      <td>98.0</td>\n",
       "    </tr>\n",
       "    <tr>\n",
       "      <th>1</th>\n",
       "      <td>89110600077ffff</td>\n",
       "      <td>250.0</td>\n",
       "      <td>99.0</td>\n",
       "    </tr>\n",
       "    <tr>\n",
       "      <th>2</th>\n",
       "      <td>89110600113ffff</td>\n",
       "      <td>333.0</td>\n",
       "      <td>144.0</td>\n",
       "    </tr>\n",
       "    <tr>\n",
       "      <th>4</th>\n",
       "      <td>89110600183ffff</td>\n",
       "      <td>16.0</td>\n",
       "      <td>7.0</td>\n",
       "    </tr>\n",
       "    <tr>\n",
       "      <th>6</th>\n",
       "      <td>8911060018bffff</td>\n",
       "      <td>57.0</td>\n",
       "      <td>19.0</td>\n",
       "    </tr>\n",
       "    <tr>\n",
       "      <th>...</th>\n",
       "      <td>...</td>\n",
       "      <td>...</td>\n",
       "      <td>...</td>\n",
       "    </tr>\n",
       "    <tr>\n",
       "      <th>3899</th>\n",
       "      <td>891106b9e47ffff</td>\n",
       "      <td>31.0</td>\n",
       "      <td>15.0</td>\n",
       "    </tr>\n",
       "    <tr>\n",
       "      <th>3900</th>\n",
       "      <td>891106b9e4fffff</td>\n",
       "      <td>16.0</td>\n",
       "      <td>12.0</td>\n",
       "    </tr>\n",
       "    <tr>\n",
       "      <th>3901</th>\n",
       "      <td>891106b9e6bffff</td>\n",
       "      <td>36.0</td>\n",
       "      <td>9.0</td>\n",
       "    </tr>\n",
       "    <tr>\n",
       "      <th>3902</th>\n",
       "      <td>891106b9e6fffff</td>\n",
       "      <td>18.0</td>\n",
       "      <td>7.0</td>\n",
       "    </tr>\n",
       "    <tr>\n",
       "      <th>3904</th>\n",
       "      <td>891106b9e7bffff</td>\n",
       "      <td>5.0</td>\n",
       "      <td>3.0</td>\n",
       "    </tr>\n",
       "  </tbody>\n",
       "</table>\n",
       "<p>3417 rows × 3 columns</p>\n",
       "</div>"
      ],
      "text/plain": [
       "                 h3_9  total_visits  unique_visits\n",
       "0     8911060006bffff         147.0           98.0\n",
       "1     89110600077ffff         250.0           99.0\n",
       "2     89110600113ffff         333.0          144.0\n",
       "4     89110600183ffff          16.0            7.0\n",
       "6     8911060018bffff          57.0           19.0\n",
       "...               ...           ...            ...\n",
       "3899  891106b9e47ffff          31.0           15.0\n",
       "3900  891106b9e4fffff          16.0           12.0\n",
       "3901  891106b9e6bffff          36.0            9.0\n",
       "3902  891106b9e6fffff          18.0            7.0\n",
       "3904  891106b9e7bffff           5.0            3.0\n",
       "\n",
       "[3417 rows x 3 columns]"
      ]
     },
     "execution_count": 25,
     "metadata": {},
     "output_type": "execute_result"
    }
   ],
   "source": [
    "df_combined.loc[df_combined.total_visits != df_combined.unique_visits][['h3_9', 'total_visits', 'unique_visits']]"
   ]
  },
  {
   "cell_type": "code",
   "execution_count": 30,
   "id": "f6ab3e81",
   "metadata": {},
   "outputs": [],
   "source": [
    "path = 'C:/Users/elysi/Tele2_project/data/pre_model_state/df_data_lens_may.csv'\n",
    "df_combined.to_csv(path, index=False)"
   ]
  },
  {
   "cell_type": "code",
   "execution_count": 26,
   "id": "a9396f63",
   "metadata": {},
   "outputs": [],
   "source": [
    "df_lens = pd.read_csv('C:/Users/elysi/Tele2_project/data/pre_model_state/df_data_lens_may.csv')"
   ]
  },
  {
   "cell_type": "code",
   "execution_count": 27,
   "id": "0464ac9b",
   "metadata": {},
   "outputs": [
    {
     "data": {
      "text/html": [
       "<div>\n",
       "<style scoped>\n",
       "    .dataframe tbody tr th:only-of-type {\n",
       "        vertical-align: middle;\n",
       "    }\n",
       "\n",
       "    .dataframe tbody tr th {\n",
       "        vertical-align: top;\n",
       "    }\n",
       "\n",
       "    .dataframe thead th {\n",
       "        text-align: right;\n",
       "    }\n",
       "</style>\n",
       "<table border=\"1\" class=\"dataframe\">\n",
       "  <thead>\n",
       "    <tr style=\"text-align: right;\">\n",
       "      <th></th>\n",
       "      <th>h3_9</th>\n",
       "      <th>total_visits</th>\n",
       "      <th>unique_visits</th>\n",
       "    </tr>\n",
       "  </thead>\n",
       "  <tbody>\n",
       "    <tr>\n",
       "      <th>0</th>\n",
       "      <td>8911060006bffff</td>\n",
       "      <td>147.0</td>\n",
       "      <td>98.0</td>\n",
       "    </tr>\n",
       "    <tr>\n",
       "      <th>1</th>\n",
       "      <td>89110600077ffff</td>\n",
       "      <td>250.0</td>\n",
       "      <td>99.0</td>\n",
       "    </tr>\n",
       "    <tr>\n",
       "      <th>2</th>\n",
       "      <td>89110600113ffff</td>\n",
       "      <td>333.0</td>\n",
       "      <td>144.0</td>\n",
       "    </tr>\n",
       "    <tr>\n",
       "      <th>4</th>\n",
       "      <td>89110600183ffff</td>\n",
       "      <td>16.0</td>\n",
       "      <td>7.0</td>\n",
       "    </tr>\n",
       "    <tr>\n",
       "      <th>6</th>\n",
       "      <td>8911060018bffff</td>\n",
       "      <td>57.0</td>\n",
       "      <td>19.0</td>\n",
       "    </tr>\n",
       "    <tr>\n",
       "      <th>...</th>\n",
       "      <td>...</td>\n",
       "      <td>...</td>\n",
       "      <td>...</td>\n",
       "    </tr>\n",
       "    <tr>\n",
       "      <th>3899</th>\n",
       "      <td>891106b9e47ffff</td>\n",
       "      <td>31.0</td>\n",
       "      <td>15.0</td>\n",
       "    </tr>\n",
       "    <tr>\n",
       "      <th>3900</th>\n",
       "      <td>891106b9e4fffff</td>\n",
       "      <td>16.0</td>\n",
       "      <td>12.0</td>\n",
       "    </tr>\n",
       "    <tr>\n",
       "      <th>3901</th>\n",
       "      <td>891106b9e6bffff</td>\n",
       "      <td>36.0</td>\n",
       "      <td>9.0</td>\n",
       "    </tr>\n",
       "    <tr>\n",
       "      <th>3902</th>\n",
       "      <td>891106b9e6fffff</td>\n",
       "      <td>18.0</td>\n",
       "      <td>7.0</td>\n",
       "    </tr>\n",
       "    <tr>\n",
       "      <th>3904</th>\n",
       "      <td>891106b9e7bffff</td>\n",
       "      <td>5.0</td>\n",
       "      <td>3.0</td>\n",
       "    </tr>\n",
       "  </tbody>\n",
       "</table>\n",
       "<p>3417 rows × 3 columns</p>\n",
       "</div>"
      ],
      "text/plain": [
       "                 h3_9  total_visits  unique_visits\n",
       "0     8911060006bffff         147.0           98.0\n",
       "1     89110600077ffff         250.0           99.0\n",
       "2     89110600113ffff         333.0          144.0\n",
       "4     89110600183ffff          16.0            7.0\n",
       "6     8911060018bffff          57.0           19.0\n",
       "...               ...           ...            ...\n",
       "3899  891106b9e47ffff          31.0           15.0\n",
       "3900  891106b9e4fffff          16.0           12.0\n",
       "3901  891106b9e6bffff          36.0            9.0\n",
       "3902  891106b9e6fffff          18.0            7.0\n",
       "3904  891106b9e7bffff           5.0            3.0\n",
       "\n",
       "[3417 rows x 3 columns]"
      ]
     },
     "execution_count": 27,
     "metadata": {},
     "output_type": "execute_result"
    }
   ],
   "source": [
    "df_lens.loc[df_lens.total_visits != df_lens.unique_visits][['h3_9', 'total_visits', 'unique_visits']]"
   ]
  },
  {
   "cell_type": "code",
   "execution_count": null,
   "id": "66ccd351",
   "metadata": {},
   "outputs": [],
   "source": [
    "path = 'C:/Users/elysi/Tele2_project/data/pre_model_state/df_data_lens_may.csv'\n",
    "df_combined.to_csv(path, index=False)"
   ]
  }
 ],
 "metadata": {
  "kernelspec": {
   "display_name": "Python 3 (ipykernel)",
   "language": "python",
   "name": "python3"
  },
  "language_info": {
   "codemirror_mode": {
    "name": "ipython",
    "version": 3
   },
   "file_extension": ".py",
   "mimetype": "text/x-python",
   "name": "python",
   "nbconvert_exporter": "python",
   "pygments_lexer": "ipython3",
   "version": "3.10.9"
  }
 },
 "nbformat": 4,
 "nbformat_minor": 5
}
